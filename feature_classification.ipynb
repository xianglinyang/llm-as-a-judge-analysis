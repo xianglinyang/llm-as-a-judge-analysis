{
 "cells": [
  {
   "cell_type": "code",
   "execution_count": 11,
   "metadata": {},
   "outputs": [],
   "source": [
    "output_path = \"/data2/xianglin/data/preference_leakage/output\"\n",
    "gemini_path = f\"{output_path}/gemini_feature_vecs.json\"\n",
    "gpt4o_path = f\"{output_path}/gpt4_feature_vecs.json\"\n",
    "llama_path = f\"{output_path}/llama_feature_vecs.npy.json\"\n",
    "\n",
    "import json\n",
    "\n",
    "with open(gemini_path, \"r\") as f:\n",
    "    gemini_data = json.load(f)\n",
    "\n",
    "with open(gpt4o_path, \"r\") as f:\n",
    "    gpt4o_data = json.load(f)\n",
    "\n",
    "with open(llama_path, \"r\") as f:\n",
    "    llama_data = json.load(f)"
   ]
  },
  {
   "cell_type": "code",
   "execution_count": 12,
   "metadata": {},
   "outputs": [],
   "source": [
    "def clean_data(data):\n",
    "    new_data = []\n",
    "    for i in range(len(data)):\n",
    "        length = len(data[i]) \n",
    "        if length != 67:\n",
    "            print(i)\n",
    "            print(length)\n",
    "        else:\n",
    "            new_data.append(data[i])\n",
    "    print(\"-\"*100)\n",
    "    return new_data\n"
   ]
  },
  {
   "cell_type": "code",
   "execution_count": null,
   "metadata": {},
   "outputs": [],
   "source": [
    "new_llama_data = clean_data(llama_data)\n",
    "new_gpt4o_data = clean_data(gpt4o_data)\n",
    "new_gemini_data = clean_data(gemini_data)   \n",
    "\n",
    "print(len(new_llama_data))\n",
    "print(len(new_gpt4o_data))\n",
    "print(len(new_gemini_data))"
   ]
  },
  {
   "cell_type": "code",
   "execution_count": null,
   "metadata": {},
   "outputs": [],
   "source": [
    "import numpy as np\n",
    "\n",
    "llama_data = np.array(new_llama_data)\n",
    "gpt4o_data = np.array(new_gpt4o_data)\n",
    "gemini_data = np.array(new_gemini_data)\n",
    "\n",
    "np.save(f\"{output_path}/llama_data.npy\", llama_data)\n",
    "np.save(f\"{output_path}/gpt4o_data.npy\", gpt4o_data)\n",
    "np.save(f\"{output_path}/gemini_data.npy\", gemini_data)\n",
    "\n",
    "print(llama_data.shape)\n",
    "print(gpt4o_data.shape)\n",
    "print(gemini_data.shape)"
   ]
  },
  {
   "cell_type": "code",
   "execution_count": 27,
   "metadata": {},
   "outputs": [
    {
     "name": "stdout",
     "output_type": "stream",
     "text": [
      "LogisticRegression(fit_intercept=False, max_iter=1000, penalty='l1',\n",
      "                   random_state=42, solver='liblinear')\n"
     ]
    }
   ],
   "source": [
    "path = \"/data2/xianglin/data/preference_leakage/extracted_feature_bow_classifier_LogisticRegression.joblib\"   \n",
    "\n",
    "# load the model\n",
    "from joblib import load\n",
    "\n",
    "model = load(path)\n",
    "\n",
    "# check the model\n",
    "print(model)"
   ]
  },
  {
   "cell_type": "code",
   "execution_count": 28,
   "metadata": {},
   "outputs": [
    {
     "data": {
      "text/plain": [
       "(array([ 9.05739671e-04, -8.98226880e-03,  1.07676566e-01, -5.52328006e-03,\n",
       "        -3.94928460e-03, -4.96570251e-01, -7.31885775e-03, -2.11252247e-01,\n",
       "         3.98329959e-01, -6.31510177e-03,  1.91786479e-01,  6.62093075e+00,\n",
       "        -5.95288780e+00,  2.29941545e+00,  3.02163638e+00,  1.40595143e+01,\n",
       "        -9.98385183e-02, -1.38186681e+00,  5.20161050e-01, -1.95846795e+00,\n",
       "         0.00000000e+00,  1.24704423e+00, -2.09054078e-01, -2.02353325e-01,\n",
       "         0.00000000e+00,  1.22324597e-01, -1.14429385e+00, -5.42629368e-01,\n",
       "         1.63887770e+00, -6.91953628e+00,  0.00000000e+00,  6.59376752e-01,\n",
       "        -2.37299648e-01,  0.00000000e+00, -1.74321125e-02,  1.93888780e-02,\n",
       "        -5.09005331e-03,  9.18369757e-03,  2.92428656e-02, -1.87674490e-01,\n",
       "        -1.26566945e+00,  1.57874089e+00,  0.00000000e+00,  1.26756638e+01,\n",
       "        -7.73533297e+00, -3.65484575e+00,  0.00000000e+00,  0.00000000e+00,\n",
       "         4.62238223e+00,  4.05470847e+00,  5.22607584e+00,  3.93394013e-01,\n",
       "        -3.04929830e+00, -4.86882258e+00, -7.75760433e+00, -4.40622260e+00,\n",
       "         0.00000000e+00,  3.18163253e-01, -7.59210354e+00, -1.09784407e+00,\n",
       "        -1.53317290e+00,  1.50805822e+00,  7.00891675e-02, -2.31626063e-01,\n",
       "         0.00000000e+00,  3.33210277e-01, -2.13288993e+00]),\n",
       " 0.0)"
      ]
     },
     "execution_count": 28,
     "metadata": {},
     "output_type": "execute_result"
    }
   ],
   "source": [
    "model.coef_[0], model.intercept_"
   ]
  },
  {
   "cell_type": "code",
   "execution_count": 23,
   "metadata": {},
   "outputs": [
    {
     "data": {
      "image/png": "[encoded data removed]",
      "text/plain": [
       "<Figure size 640x480 with 1 Axes>"
      ]
     },
     "metadata": {},
     "output_type": "display_data"
    }
   ],
   "source": [
    "# print distribution of the coefficients in a histogram\n",
    "import matplotlib.pyplot as plt\n",
    "plt.hist(model.coef_[1], bins=300, range=(-0.3, 0.1))\n",
    "plt.show()"
   ]
  },
  {
   "cell_type": "code",
   "execution_count": 24,
   "metadata": {},
   "outputs": [
    {
     "data": {
      "text/plain": [
       "67"
      ]
     },
     "execution_count": 24,
     "metadata": {},
     "output_type": "execute_result"
    }
   ],
   "source": [
    "# top 10 features\n",
    "from src.extract_features import feature_names\n",
    "names = feature_names()\n",
    "len(names)"
   ]
  },
  {
   "cell_type": "code",
   "execution_count": 25,
   "metadata": {},
   "outputs": [
    {
     "name": "stdout",
     "output_type": "stream",
     "text": [
      "['paragraph_count', 'amod', 'xcomp', 'ends_with_concluding_phrase', 'char_count']\n",
      "['csubj', 'punctuation_ratio', 'avg_dependency_distance', 'pos_ADJ_ratio', 'transition_word_density_per_sent']\n",
      "['pos_INTJ_ratio', 'ROOT', 'ccomp', 'ttr', 'avg_sentence_length_tokens']\n"
     ]
    }
   ],
   "source": [
    "# show the top 10 features\n",
    "import numpy as np\n",
    "k=5\n",
    "# model 0\n",
    "model0_names = [names[i] for i in np.argsort(model.coef_[0])]\n",
    "# model 1\n",
    "model1_names = [names[i] for i in np.argsort(model.coef_[1])]\n",
    "# model 2\n",
    "model2_names = [names[i] for i in np.argsort(model.coef_[2])]\n",
    "\n",
    "print(model0_names[-k:])\n",
    "print(model1_names[-k:])\n",
    "print(model2_names[-k:])\n"
   ]
  },
  {
   "cell_type": "code",
   "execution_count": 16,
   "metadata": {},
   "outputs": [
    {
     "data": {
      "text/plain": [
       "array([0.10552454, 0.11222161, 0.11435377, 0.12562852, 0.17893294])"
      ]
     },
     "execution_count": 16,
     "metadata": {},
     "output_type": "execute_result"
    }
   ],
   "source": [
    "np.sort(model.coef_[0])[-5:]"
   ]
  },
  {
   "cell_type": "code",
   "execution_count": 1,
   "metadata": {},
   "outputs": [
    {
     "name": "stdout",
     "output_type": "stream",
     "text": [
      "\n",
      "Loading model for prediction example...\n",
      "Predictions for new texts: [0]\n"
     ]
    }
   ],
   "source": [
    "print(\"\\nLoading model for prediction example...\")\n",
    "import joblib\n",
    "\n",
    "MODEL_SAVE_PATH = \"/data2/xianglin/data/preference_leakage/bow_classifier_LogisticRegression.joblib\"\n",
    "VECTORIZER_SAVE_PATH = \"/data2/xianglin/data/preference_leakage/bow_vectorizer_tfidf_ngram2_maxf20000.joblib\"\n",
    "\n",
    "loaded_classifier = joblib.load(MODEL_SAVE_PATH)\n",
    "loaded_vectorizer = joblib.load(VECTORIZER_SAVE_PATH)\n",
    "new_texts = [\"\"]\n",
    "new_texts_vec = loaded_vectorizer.transform(new_texts)\n",
    "\n",
    "predictions = loaded_classifier.predict(new_texts_vec)\n",
    "print(f\"Predictions for new texts: {predictions}\")"
   ]
  }
 ],
 "metadata": {
  "kernelspec": {
   "display_name": "llm",
   "language": "python",
   "name": "python3"
  },
  "language_info": {
   "codemirror_mode": {
    "name": "ipython",
    "version": 3
   },
   "file_extension": ".py",
   "mimetype": "text/x-python",
   "name": "python",
   "nbconvert_exporter": "python",
   "pygments_lexer": "ipython3",
   "version": "3.10.16"
  }
 },
 "nbformat": 4,
 "nbformat_minor": 2
}
